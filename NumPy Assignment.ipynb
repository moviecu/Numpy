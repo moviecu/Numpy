{
 "cells": [
  {
   "cell_type": "markdown",
   "metadata": {},
   "source": [
    "## Practical Questions:NumPy"
   ]
  },
  {
   "cell_type": "markdown",
   "metadata": {},
   "source": [
    "1. Create a 3x3 NumPy array with random integers between 1 and 100. Then, interchange its rows and columns."
   ]
  },
  {
   "cell_type": "code",
   "execution_count": 1,
   "metadata": {},
   "outputs": [
    {
     "name": "stdout",
     "output_type": "stream",
     "text": [
      "Original 3x3 array:\n",
      "[[31 43 39]\n",
      " [71 69 72]\n",
      " [18 96 28]]\n",
      "\n",
      "Transposed 3x3 array: \n",
      "[[31 71 18]\n",
      " [43 69 96]\n",
      " [39 72 28]]\n"
     ]
    }
   ],
   "source": [
    "import numpy as np\n",
    "\n",
    "# Creating a 3x3 array with random integers between 1 and 100\n",
    "array_3X3= np.random.randint(1,100, size=(3,3))\n",
    "print(\"Original 3x3 array:\")\n",
    "print(array_3X3)\n",
    "\n",
    "# Interchange rows and columns\n",
    "transposed_array= array_3X3.T\n",
    "print(\"\\nTransposed 3x3 array: \")\n",
    "print(transposed_array)\n",
    "\n"
   ]
  },
  {
   "cell_type": "markdown",
   "metadata": {},
   "source": [
    "2. Generate a 1D NumPy array with 10 elements. Reshape it into a 2x5 array, then into a 5x2 array."
   ]
  },
  {
   "cell_type": "code",
   "execution_count": 2,
   "metadata": {},
   "outputs": [
    {
     "name": "stdout",
     "output_type": "stream",
     "text": [
      "1D Array: \n",
      "[0 1 2 3 4 5 6 7 8 9]\n",
      "\n",
      "Reshaped into 2x5 array: \n",
      "[[0 1 2 3 4]\n",
      " [5 6 7 8 9]]\n",
      "\n",
      "Reshaped into 5x2: \n",
      "[[0 1]\n",
      " [2 3]\n",
      " [4 5]\n",
      " [6 7]\n",
      " [8 9]]\n"
     ]
    }
   ],
   "source": [
    "import numpy as np\n",
    "\n",
    "# Creating a 1D array with 10 elements\n",
    "arr_1D= np.arange(10)\n",
    "print(\"1D Array: \")\n",
    "print(arr_1D)\n",
    "\n",
    "# Reshaping into 2x5 array\n",
    "Reshaped_2x5= np.reshape(arr_1D,(2,5))\n",
    "print('\\nReshaped into 2x5 array: ')\n",
    "print(Reshaped_2x5)\n",
    "\n",
    "# Reshaping into 5x2 array\n",
    "Reshaped_5x2= arr_1D.reshape(5,2)\n",
    "print('\\nReshaped into 5x2: ')\n",
    "print(Reshaped_5x2)"
   ]
  },
  {
   "cell_type": "markdown",
   "metadata": {},
   "source": [
    "3. Create a 4x4 NumPy array with random float values. Add a border of zeros around it, resulting in a 6x6 array."
   ]
  },
  {
   "cell_type": "code",
   "execution_count": 3,
   "metadata": {},
   "outputs": [
    {
     "name": "stdout",
     "output_type": "stream",
     "text": [
      "4x4 Array:\n",
      "[[0.49507478 0.92390273 0.22186741 0.95080769]\n",
      " [0.36473529 0.78727532 0.13906918 0.94654362]\n",
      " [0.16225478 0.64047642 0.92121761 0.99438099]\n",
      " [0.94168168 0.27499166 0.25799626 0.79198546]]\n",
      "\n",
      "6x6 array with a border of Zeros\n",
      "[[0.         0.         0.         0.         0.         0.        ]\n",
      " [0.         0.49507478 0.92390273 0.22186741 0.95080769 0.        ]\n",
      " [0.         0.36473529 0.78727532 0.13906918 0.94654362 0.        ]\n",
      " [0.         0.16225478 0.64047642 0.92121761 0.99438099 0.        ]\n",
      " [0.         0.94168168 0.27499166 0.25799626 0.79198546 0.        ]\n",
      " [0.         0.         0.         0.         0.         0.        ]]\n"
     ]
    }
   ],
   "source": [
    "# Creating a 4x4 array with random float Valules\n",
    "array_4x4= np.random.rand(4,4)\n",
    "print(\"4x4 Array:\")\n",
    "print(array_4x4)\n",
    "\n",
    "# Adding a border of Zeros around it\n",
    "array_6x6= np.pad(array_4x4, pad_width=1, mode='constant', constant_values=0)\n",
    "print('\\n6x6 array with a border of Zeros')\n",
    "print(array_6x6)"
   ]
  },
  {
   "cell_type": "markdown",
   "metadata": {},
   "source": [
    "4. Using NumPy, create an array of integers from 10 to 60 with a step of 5."
   ]
  },
  {
   "cell_type": "code",
   "execution_count": 4,
   "metadata": {},
   "outputs": [
    {
     "name": "stdout",
     "output_type": "stream",
     "text": [
      "Array form 10 to 60 with a step of 5:\n",
      "[10 15 20 25 30 35 40 45 50 55]\n"
     ]
    }
   ],
   "source": [
    "array_step= np.arange(10,60,5)\n",
    "print(\"Array form 10 to 60 with a step of 5:\")\n",
    "print(array_step)"
   ]
  },
  {
   "cell_type": "markdown",
   "metadata": {},
   "source": [
    "5. Create a NumPy array of strings ['python', 'numpy', 'pandas']. Apply different case transformations (uppercase, lowercase, title case, etc.) to each element."
   ]
  },
  {
   "cell_type": "code",
   "execution_count": 5,
   "metadata": {},
   "outputs": [
    {
     "name": "stdout",
     "output_type": "stream",
     "text": [
      "Orginal Array of Strings: \n",
      "['python' 'numpy' 'pandas']\n",
      "\n",
      "Uppercase Transforamtion: \n",
      "['PYTHON' 'NUMPY' 'PANDAS']\n",
      "\n",
      "Lowercase Transformation: \n",
      "['python' 'numpy' 'pandas']\n",
      "\n",
      "Title case Transformation: \n",
      "['Python' 'Numpy' 'Pandas']\n"
     ]
    }
   ],
   "source": [
    "string_array= np.array(['python', 'numpy', 'pandas'])\n",
    "print(\"Orginal Array of Strings: \")\n",
    "print(string_array)\n",
    "\n",
    "# Apply uppercase Transformation\n",
    "uppercase_array= np.char.upper(string_array)\n",
    "print('\\nUppercase Transforamtion: ')\n",
    "print(uppercase_array)\n",
    "\n",
    "# Apply Lowercase Transformation\n",
    "lowercase_array= np.char.lower(string_array)\n",
    "print('\\nLowercase Transformation: ')\n",
    "print(lowercase_array)\n",
    "\n",
    "# Apply title case Transformation\n",
    "titlecase_array= np.char.title(string_array)\n",
    "print('\\nTitle case Transformation: ')\n",
    "print(titlecase_array)\n"
   ]
  },
  {
   "cell_type": "markdown",
   "metadata": {},
   "source": [
    "6. Generate a NumPy array of words. Insert a space between each character of every word in the array."
   ]
  },
  {
   "cell_type": "code",
   "execution_count": 6,
   "metadata": {},
   "outputs": [
    {
     "name": "stdout",
     "output_type": "stream",
     "text": [
      "Original array of words\n",
      "['Vivek' 'Ram' 'Sita' 'Verma' 'Krishna']\n",
      "\n",
      "Words with spaces between characters: \n",
      "['V i v e k' 'R a m' 'S i t a' 'V e r m a' 'K r i s h n a']\n"
     ]
    }
   ],
   "source": [
    "# Creating an array of words\n",
    "words_array= np.array([\"Vivek\", \"Ram\", \"Sita\", \"Verma\", \"Krishna\"])\n",
    "print(\"Original array of words\")\n",
    "print(words_array)\n",
    "\n",
    "# Insert a space between each character of every word\n",
    "spaced_words_array=np.char.join(' ', words_array)\n",
    "print('\\nWords with spaces between characters: ')\n",
    "print(spaced_words_array)"
   ]
  },
  {
   "cell_type": "markdown",
   "metadata": {},
   "source": [
    "7. Create two 2D NumPy arrays and perform element-wise addition, subtraction, multiplication, and division."
   ]
  },
  {
   "cell_type": "code",
   "execution_count": 7,
   "metadata": {},
   "outputs": [
    {
     "name": "stdout",
     "output_type": "stream",
     "text": [
      "Array 1: \n",
      "[[1 2]\n",
      " [3 4]]\n",
      "\n",
      "Array 2:\n",
      "[[5 6]\n",
      " [7 8]]\n",
      "\n",
      "Element-wise Addition:\n",
      "[[ 6  8]\n",
      " [10 12]]\n",
      "\n",
      "Element-wise Subration: \n",
      "[[-4 -4]\n",
      " [-4 -4]]\n",
      "\n",
      "Element-wise Multiplication: \n",
      "[[ 5 12]\n",
      " [21 32]]\n",
      "\n",
      "Element-wise Division\n",
      "[[0.2        0.33333333]\n",
      " [0.42857143 0.5       ]]\n"
     ]
    }
   ],
   "source": [
    "arr1= np.array([[1,2],[3,4]])\n",
    "arr2= np.array([[5,6],[7,8]])\n",
    "print(\"Array 1: \")\n",
    "print(arr1)\n",
    "print('\\nArray 2:')\n",
    "print(arr2)\n",
    "\n",
    "#Element wise Addition\n",
    "addition= np.add(arr1, arr2)\n",
    "print('\\nElement-wise Addition:')\n",
    "print(addition)\n",
    "\n",
    "# Element-wise subtration\n",
    "subtraction= np.subtract(arr1,arr2)\n",
    "print('\\nElement-wise Subration: ')\n",
    "print(subtraction)\n",
    "\n",
    "# Element-wise Multiplication\n",
    "multiplication= np.multiply(arr1, arr2)\n",
    "print(\"\\nElement-wise Multiplication: \")\n",
    "print(multiplication)\n",
    "\n",
    "# Element-wise Division\n",
    "Division= np.divide(arr1,arr2)\n",
    "print('\\nElement-wise Division')\n",
    "print(Division)"
   ]
  },
  {
   "cell_type": "markdown",
   "metadata": {},
   "source": [
    "8. Use NumPy to create a 5x5 identity matrix, then extract its diagonal elements."
   ]
  },
  {
   "cell_type": "code",
   "execution_count": 8,
   "metadata": {},
   "outputs": [
    {
     "name": "stdout",
     "output_type": "stream",
     "text": [
      "5x5 identity matix: \n",
      "[[1. 0. 0. 0. 0.]\n",
      " [0. 1. 0. 0. 0.]\n",
      " [0. 0. 1. 0. 0.]\n",
      " [0. 0. 0. 1. 0.]\n",
      " [0. 0. 0. 0. 1.]]\n",
      "\n",
      "Diagonal elements\n",
      "[1. 1. 1. 1. 1.]\n"
     ]
    }
   ],
   "source": [
    "# Creating a 5x5 indentity matrix\n",
    "identify_matrix= np.eye(5)\n",
    "print(\"5x5 identity matix: \")\n",
    "print(identify_matrix)\n",
    "\n",
    "#Extract diagonal elements\n",
    "diagonal_elements=np.diag(identify_matrix)\n",
    "print('\\nDiagonal elements')\n",
    "print(diagonal_elements)"
   ]
  },
  {
   "cell_type": "markdown",
   "metadata": {},
   "source": [
    "9. Generate a NumPy array of 100 random integers between 0 and 1000. Find and display all prime numbers in this array."
   ]
  },
  {
   "cell_type": "code",
   "execution_count": 10,
   "metadata": {},
   "outputs": [
    {
     "name": "stdout",
     "output_type": "stream",
     "text": [
      "Random integers array:\n",
      "[325 141 191 388  55 633 411 130 902 804 411 225 175 773 515 845 778 299\n",
      " 937 503 777 254 865 643 765 999 630 783 973 381 807 746 647 392 708 514\n",
      " 484 104 105 479  23 365 849 727 465  10  21 102 413  68 710 673 670 274\n",
      " 144  10 470  89 429 268 465 799 462 373 406  77 558 132 802 871 108 404\n",
      " 595 547 450 601 475 815 908 523 811 917 163  75 403  74 270 251 254 954\n",
      " 156 558  62 473 699 393  98 426 376 115]\n",
      "\n",
      "Prime numbers in the array:\n",
      "[191, 773, 937, 503, 643, 647, 479, 23, 727, 673, 89, 373, 547, 601, 523, 811, 163, 251]\n"
     ]
    }
   ],
   "source": [
    "# Function to check if a number is prime\n",
    "def is_prime(num):\n",
    "    if num < 2:\n",
    "        return False\n",
    "    for i in range(2, int(np.sqrt(num)) + 1):\n",
    "        if num % i == 0:\n",
    "            return False\n",
    "    return True\n",
    "\n",
    "# Generate an array of 100 random integers between 0 and 1000\n",
    "random_integers = np.random.randint(0, 1001, 100)\n",
    "print(\"Random integers array:\")\n",
    "print(random_integers)\n",
    "\n",
    "# Find and display all prime numbers in the array\n",
    "prime_numbers = [num for num in random_integers if is_prime(num)]\n",
    "print(\"\\nPrime numbers in the array:\")\n",
    "print(prime_numbers)\n"
   ]
  },
  {
   "cell_type": "markdown",
   "metadata": {},
   "source": [
    "10. Create a NumPy array representing daily temperatures for a month. Calculate and display the weekly averages."
   ]
  },
  {
   "cell_type": "code",
   "execution_count": 12,
   "metadata": {},
   "outputs": [
    {
     "name": "stdout",
     "output_type": "stream",
     "text": [
      "Daily Temperatures:\n",
      "[26 27 33 32 31 24 32  8  3 21  8 24 17 24 14 17  8 24  4  9 25 18 12 10\n",
      "  7 14 33  2 12 14]\n",
      "Weekly Averages:\n",
      "[29.28571429 15.         14.42857143 13.71428571 13.        ]\n"
     ]
    }
   ],
   "source": [
    "import numpy as np\n",
    "\n",
    "# Creating an array of daily temperatures for a month (30 days)\n",
    "temperatures = np.random.randint(0, 35, size=30)\n",
    "print(\"Daily Temperatures:\")\n",
    "print(temperatures)\n",
    "\n",
    "# Calculating weekly averages\n",
    "weekly_averages = np.array([np.mean(temperatures[i:i+7]) for i in range(0, len(temperatures), 7)])\n",
    "print(\"Weekly Averages:\")\n",
    "print(weekly_averages)\n"
   ]
  }
 ],
 "metadata": {
  "kernelspec": {
   "display_name": "Python 3",
   "language": "python",
   "name": "python3"
  },
  "language_info": {
   "codemirror_mode": {
    "name": "ipython",
    "version": 3
   },
   "file_extension": ".py",
   "mimetype": "text/x-python",
   "name": "python",
   "nbconvert_exporter": "python",
   "pygments_lexer": "ipython3",
   "version": "3.12.1"
  }
 },
 "nbformat": 4,
 "nbformat_minor": 2
}
